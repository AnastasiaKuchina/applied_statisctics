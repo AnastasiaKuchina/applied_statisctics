{
 "cells": [
  {
   "cell_type": "markdown",
   "id": "a9f19162-3c22-4a72-8375-996e09d6826e",
   "metadata": {},
   "source": [
    "Homework-02"
   ]
  },
  {
   "cell_type": "code",
   "execution_count": 2,
   "id": "3928f714-eb98-4c8a-8a0e-bc0ccc032f34",
   "metadata": {},
   "outputs": [],
   "source": [
    "import random\n",
    "import math\n",
    "import numpy as np\n",
    "import matplotlib.pyplot as plt"
   ]
  },
  {
   "cell_type": "code",
   "execution_count": 4,
   "id": "e661dc95",
   "metadata": {},
   "outputs": [
    {
     "name": "stdout",
     "output_type": "stream",
     "text": [
      "Равномерное распределение: [ 0.00388224 -0.81160067  0.50891619  0.39196022  0.43734859  0.29280671\n",
      "  0.280665   -0.3493284  -0.75861872  0.80727332]\n"
     ]
    }
   ],
   "source": [
    "def uniform_generator(size):\n",
    "    return np.random.uniform(-1, 1, size)\n",
    "\n",
    "# Пример использования\n",
    "sample_uniform = uniform_generator(10)  # Генерация 10 случайных чисел\n",
    "print(\"Равномерное распределение:\", sample_uniform)\n"
   ]
  },
  {
   "cell_type": "code",
   "execution_count": 9,
   "id": "30bdacb3-43bd-43c7-b20d-c97ffca78ede",
   "metadata": {},
   "outputs": [
    {
     "name": "stdout",
     "output_type": "stream",
     "text": [
      "Нормальное распределение: [0.8063804656562525, 0.9994100863381945, 1.1489530047483552, -0.06351532507994001, -0.8173185336395913, -1.1538918209635705, 0.09559730588667706, 0.4409551694118019, 0.24265147364279666, -1.9846973019067746]\n"
     ]
    }
   ],
   "source": [
    "def normal_generator(N):\n",
    "    samples = [random.gauss(0, 1) for _ in range(N)]\n",
    "    return samples\n",
    "\n",
    "sample_normal = normal_generator(10)  # Генерация 10 случайных чисел\n",
    "print(\"Нормальное распределение:\", sample_normal)\n",
    "\n"
   ]
  },
  {
   "cell_type": "code",
   "execution_count": 12,
   "id": "41e430c8-812b-47f3-b83e-1b3b2849aba6",
   "metadata": {},
   "outputs": [
    {
     "name": "stdout",
     "output_type": "stream",
     "text": [
      "Доля интервалов для равномерного распределения:\n",
      "Размер выборки 10: Jackknife: 0.9127, Bootstrap: 0.9082\n",
      "Размер выборки 100: Jackknife: 0.9453, Bootstrap: 0.9450\n",
      "Размер выборки 1000: Jackknife: 0.9481, Bootstrap: 0.9473\n",
      "\n",
      "Доля интервалов для нормального распределения:\n",
      "Размер выборки 10: Jackknife: 0.9164, Bootstrap: 0.8966\n",
      "Размер выборки 100: Jackknife: 0.9495, Bootstrap: 0.9481\n",
      "Размер выборки 1000: Jackknife: 0.9492, Bootstrap: 0.9496\n"
     ]
    }
   ],
   "source": [
    "import numpy as np\n",
    "import scipy.stats as stats\n",
    "import matplotlib.pyplot as plt\n",
    "\n",
    "# Параметры\n",
    "sample_sizes = [10, 100, 1000]\n",
    "num_samples = 10000\n",
    "true_mean_uniform = 0\n",
    "true_var_uniform = (1 - (-1))**2 / 12 \n",
    "true_mean_normal = 1\n",
    "true_var_normal = 0 \n",
    "\n",
    "def jackknife_ci(sample, alpha=0.05):\n",
    "    n = len(sample)\n",
    "    mean = np.mean(sample)\n",
    "    \n",
    "    jackknife_means = [(n * mean - x) / (n - 1) for x in sample]\n",
    "    jackknife_se = np.sqrt((n - 1) / n * np.sum((jackknife_means - mean)**2))\n",
    "    \n",
    "    z_score = stats.norm.ppf(1 - alpha/2)\n",
    "    # границы доверительного интервала\n",
    "    ci_lower = mean - z_score * jackknife_se\n",
    "    ci_upper = mean + z_score * jackknife_se\n",
    "    \n",
    "    return ci_lower, ci_upper\n",
    "\n",
    "def bootstrap_ci(sample, alpha=0.05):\n",
    "    n = len(sample)\n",
    "    bootstrap_samples = np.random.choice(sample, (num_samples, n), replace=True)\n",
    "    bootstrap_means = np.mean(bootstrap_samples, axis=1)\n",
    "    # границы доверительного интервала\n",
    "    lower_bound = np.percentile(bootstrap_means, (alpha/2) * 100)\n",
    "    upper_bound = np.percentile(bootstrap_means, (1 - alpha/2) * 100)\n",
    "    \n",
    "    return lower_bound, upper_bound\n",
    "\n",
    "def simulate(generator, true_mean, true_var):\n",
    "    results_jackknife = []\n",
    "    results_bootstrap = []\n",
    "    \n",
    "    for size in sample_sizes:\n",
    "        contained_jackknife = 0\n",
    "        contained_bootstrap = 0\n",
    "        \n",
    "        for _ in range(num_samples):\n",
    "            sample = generator(size)\n",
    "            \n",
    "            # Jackknife\n",
    "            ci_jackknife = jackknife_ci(sample)\n",
    "            if ci_jackknife[0] <= true_mean <= ci_jackknife[1]:\n",
    "                contained_jackknife += 1\n",
    "            \n",
    "            # Bootstrap\n",
    "            ci_bootstrap = bootstrap_ci(sample)\n",
    "            if ci_bootstrap[0] <= true_mean <= ci_bootstrap[1]:\n",
    "                contained_bootstrap += 1\n",
    "        \n",
    "        results_jackknife.append(contained_jackknife / num_samples)\n",
    "        results_bootstrap.append(contained_bootstrap / num_samples)\n",
    "    \n",
    "    return results_jackknife, results_bootstrap\n",
    "\n",
    "# Симуляция для равномерного распределения\n",
    "jackknife_uniform, bootstrap_uniform = simulate(uniform_generator, true_mean_uniform, true_var_uniform)\n",
    "\n",
    "# Симуляция для нормального распределения\n",
    "jackknife_normal, bootstrap_normal = simulate(normal_generator, true_mean_normal, true_var_normal)\n",
    "\n",
    "# Вывод результатов\n",
    "print(\"Доля интервалов для равномерного распределения:\")\n",
    "for size, j, b in zip(sample_sizes, jackknife_uniform, bootstrap_uniform):\n",
    "    print(f\"Размер выборки {size}: Jackknife: {j:.4f}, Bootstrap: {b:.4f}\")\n",
    "\n",
    "print(\"\\nДоля интервалов для нормального распределения:\")\n",
    "for size, j, b in zip(sample_sizes, jackknife_normal, bootstrap_normal):\n",
    "    print(f\"Размер выборки {size}: Jackknife: {j:.4f}, Bootstrap: {b:.4f}\")"
   ]
  },
  {
   "cell_type": "code",
   "execution_count": null,
   "id": "72b0d612",
   "metadata": {},
   "outputs": [],
   "source": []
  }
 ],
 "metadata": {
  "kernelspec": {
   "display_name": "Python 3 (ipykernel)",
   "language": "python",
   "name": "python3"
  },
  "language_info": {
   "codemirror_mode": {
    "name": "ipython",
    "version": 3
   },
   "file_extension": ".py",
   "mimetype": "text/x-python",
   "name": "python",
   "nbconvert_exporter": "python",
   "pygments_lexer": "ipython3",
   "version": "3.11.7"
  }
 },
 "nbformat": 4,
 "nbformat_minor": 5
}
