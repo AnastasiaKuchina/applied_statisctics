{
  "nbformat": 4,
  "nbformat_minor": 0,
  "metadata": {
    "colab": {
      "provenance": []
    },
    "kernelspec": {
      "name": "python3",
      "display_name": "Python 3"
    },
    "language_info": {
      "name": "python"
    }
  },
  "cells": [
    {
      "cell_type": "code",
      "execution_count": 5,
      "metadata": {
        "id": "Q7TW98DVbVP3"
      },
      "outputs": [],
      "source": [
        "import random\n",
        "import math\n",
        "import scipy.stats as stats\n",
        "from scipy.stats import t, sem, chi2\n",
        "import numpy as np\n",
        "from scipy import stats\n",
        "import matplotlib.pyplot as plt\n",
        "from scipy.stats import norm, uniform, cauchy\n",
        "import random\n",
        "import math\n",
        "import scipy.stats as stats\n",
        "from scipy.stats import t, sem, chi2\n",
        "import numpy as np\n",
        "from scipy import stats\n",
        "import matplotlib.pyplot as plt\n",
        "from scipy.stats import norm, uniform, cauchy"
      ]
    },
    {
      "cell_type": "code",
      "source": [],
      "metadata": {
        "id": "S-45z_UjW6Ah"
      },
      "execution_count": null,
      "outputs": []
    },
    {
      "cell_type": "markdown",
      "source": [
        "#ДЗ"
      ],
      "metadata": {
        "id": "PZQo2h66W6lS"
      }
    },
    {
      "cell_type": "code",
      "source": [
        "# Функции распределений с прошлого занятия\n",
        "# Равномерное распределение\n",
        "def create_uniform_sequence(seq_len, min_val, max_val):\n",
        "    result_sequence = [random.uniform(min_val, max_val) for _ in range(seq_len)]\n",
        "    return result_sequence\n",
        "\n",
        "# Сумма равномерно распределённых чисел\n",
        "def create_sum_uniform_sequence(seq_len, min_val, max_val, num_sum):\n",
        "    result_sequence = [sum(random.uniform(min_val, max_val) for _ in range(num_sum)) for _ in range(seq_len)]\n",
        "    return result_sequence\n",
        "\n",
        "# Нормальное распределение\n",
        "def create_normal_sequence(seq_len, avg=0, std_dev=1):\n",
        "    # Генерация последовательности с нормальным распределением с параметрами avg и std_dev\n",
        "    result_sequence = [random.gauss(avg, std_dev) for _ in range(seq_len)]\n",
        "    return result_sequence\n",
        "\n",
        "# Распределение Коши\n",
        "def create_cauchy_sequence(seq_len, loc=0, scale_factor=1):\n",
        "    # Генерация последовательности с распределением Коши, с параметрами loc и scale_factor\n",
        "    result_sequence = cauchy.rvs(loc=loc, scale=scale_factor, size=seq_len)\n",
        "    return result_sequence\n",
        "\n",
        "# Генерация выборки для различных распределений\n",
        "def generate_sequence(size, dist_type='normal', dist_params=None):\n",
        "    if dist_type == 'normal':\n",
        "        return np.random.normal(dist_params['mean'], dist_params['std'], size)\n",
        "    elif dist_type == 'uniform':\n",
        "        return np.random.uniform(dist_params['low'], dist_params['high'], size)\n",
        "    elif dist_type == 'sum_of_uniform':\n",
        "        return create_sum_uniform_sequence(size, dist_params['low'], dist_params['high'], dist_params['count'])\n"
      ],
      "metadata": {
        "id": "20d1oYhbW7yS"
      },
      "execution_count": 6,
      "outputs": []
    },
    {
      "cell_type": "code",
      "source": [
        "def generate_sample_data(sample_size, distribution_type='normal', mean=0, std_dev=1, lower_bound=0, upper_bound=1, count=3):\n",
        "    if distribution_type == 'normal':\n",
        "        return [random.gauss(mean, std_dev) for _ in range(sample_size)]\n",
        "    elif distribution_type == 'uniform':\n",
        "        return [random.uniform(lower_bound, upper_bound) for _ in range(sample_size)]\n",
        "    elif distribution_type == 'sum_uniform':\n",
        "        return [sum(random.uniform(lower_bound, upper_bound) for _ in range(count)) for _ in range(sample_size)]\n",
        "\n",
        "def calculate_required_sample_size(delta, confidence_level=0.95, min_sample_size=5, distribution_type='normal', **kwargs):\n",
        "    sigma_estimates = []\n",
        "    current_sample_size = min_sample_size\n",
        "\n",
        "    for _ in range(3):\n",
        "        sample_data = generate_sample_data(current_sample_size, distribution_type, **kwargs)\n",
        "\n",
        "        sigma_estimate = np.std(sample_data, ddof=1)\n",
        "\n",
        "        lower_bound = (sigma_estimate * np.sqrt(current_sample_size - 1)) / np.sqrt(chi2.ppf((1 + confidence_level) / 2, current_sample_size - 1))\n",
        "        upper_bound = (sigma_estimate * np.sqrt(current_sample_size - 1)) / np.sqrt(chi2.ppf((1 - confidence_level) / 2, current_sample_size - 1))\n",
        "\n",
        "        current_sample_size = np.ceil((sigma_estimate ** 2 * (norm.ppf((1 + confidence_level) / 2) ** 2) / (delta ** 2))).astype(int)\n",
        "\n",
        "        sigma_estimates.append((lower_bound, upper_bound, current_sample_size))\n",
        "\n",
        "    upper_bound_sample_size = np.ceil((upper_bound ** 2 * (norm.ppf((1 + confidence_level) / 2) ** 2) / (delta ** 2))).astype(int)\n",
        "\n",
        "    return sigma_estimates, upper_bound_sample_size\n",
        ""
      ],
      "metadata": {
        "id": "IWr-YKrhW_-J"
      },
      "execution_count": 7,
      "outputs": []
    },
    {
      "cell_type": "code",
      "source": [
        "delta_values = [0.1, 0.01, 0.001]\n",
        "distribution_types = ['normal', 'uniform', 'sum_uniform']\n",
        "confidence_level = 0.95\n",
        "\n",
        "for delta in delta_values:\n",
        "    print(f\"delta = {delta}:\\n\")\n",
        "    for distribution in distribution_types:\n",
        "        sigma_estimates, upper_bound_sample_size = calculate_required_sample_size(delta, distribution_type=distribution)\n",
        "        print(f\"\\nDistr: {distribution.capitalize()}\")\n",
        "        for lower, upper, sample_size in sigma_estimates:\n",
        "            print(f\"ci: [{lower:.4f}, {upper:.4f}], sample size: {int(sample_size)}\")\n",
        "        print(f\"sample size: {int(upper_bound_sample_size)}\")\n"
      ],
      "metadata": {
        "colab": {
          "base_uri": "https://localhost:8080/"
        },
        "id": "UV9b5e_VXFmR",
        "outputId": "d3630acd-0e3c-411f-f067-c8b8ec5da4b6"
      },
      "execution_count": 8,
      "outputs": [
        {
          "output_type": "stream",
          "name": "stdout",
          "text": [
            "delta = 0.1:\n",
            "\n",
            "\n",
            "Distr: Normal\n",
            "ci: [0.4522, 2.1690], sample size: 219\n",
            "ci: [0.8684, 1.0482], sample size: 347\n",
            "ci: [0.9715, 1.1279], sample size: 419\n",
            "sample size: 489\n",
            "\n",
            "Distr: Uniform\n",
            "ci: [0.1768, 0.8482], sample size: 34\n",
            "ci: [0.2567, 0.4190], sample size: 39\n",
            "ci: [0.2383, 0.3758], sample size: 33\n",
            "sample size: 55\n",
            "\n",
            "Distr: Sum_uniform\n",
            "ci: [0.2969, 1.4240], sample size: 95\n",
            "ci: [0.4349, 0.5797], sample size: 95\n",
            "ci: [0.4357, 0.5807], sample size: 96\n",
            "sample size: 130\n",
            "delta = 0.01:\n",
            "\n",
            "\n",
            "Distr: Normal\n",
            "ci: [0.5136, 2.4633], sample size: 28228\n",
            "ci: [0.9909, 1.0074], sample size: 38341\n",
            "ci: [0.9885, 1.0026], sample size: 38067\n",
            "sample size: 38612\n",
            "\n",
            "Distr: Uniform\n",
            "ci: [0.1277, 0.6127], sample size: 1747\n",
            "ci: [0.2826, 0.3019], sample size: 3274\n",
            "ci: [0.2821, 0.2962], sample size: 3208\n",
            "sample size: 3370\n",
            "\n",
            "Distr: Sum_uniform\n",
            "ci: [0.1417, 0.6794], sample size: 2148\n",
            "ci: [0.4865, 0.5165], sample size: 9644\n",
            "ci: [0.4894, 0.5034], sample size: 9461\n",
            "sample size: 9734\n",
            "delta = 0.001:\n",
            "\n",
            "\n",
            "Distr: Normal\n",
            "ci: [0.3414, 1.6375], sample size: 1247375\n",
            "ci: [0.9991, 1.0015], sample size: 3843808\n",
            "ci: [0.9993, 1.0007], sample size: 3841728\n",
            "sample size: 3847165\n",
            "\n",
            "Distr: Uniform\n",
            "ci: [0.1115, 0.5349], sample size: 133105\n",
            "ci: [0.2877, 0.2898], sample size: 320285\n",
            "ci: [0.2879, 0.2894], sample size: 320069\n",
            "sample size: 321642\n",
            "\n",
            "Distr: Sum_uniform\n",
            "ci: [0.4557, 2.1858], sample size: 2222785\n",
            "ci: [0.4997, 0.5006], sample size: 961055\n",
            "ci: [0.4995, 0.5009], sample size: 961196\n",
            "sample size: 963919\n"
          ]
        }
      ]
    }
  ]
}