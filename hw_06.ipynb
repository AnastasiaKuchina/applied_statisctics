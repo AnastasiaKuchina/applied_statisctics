{
  "nbformat": 4,
  "nbformat_minor": 0,
  "metadata": {
    "colab": {
      "provenance": []
    },
    "kernelspec": {
      "name": "python3",
      "display_name": "Python 3"
    },
    "language_info": {
      "name": "python"
    }
  },
  "cells": [
    {
      "cell_type": "code",
      "execution_count": 5,
      "metadata": {
        "id": "VQh4uR_5bY4O"
      },
      "outputs": [],
      "source": [
        "import random\n",
        "import numpy as np\n",
        "import scipy.stats as stats\n",
        "import matplotlib.pyplot as plt"
      ]
    },
    {
      "cell_type": "markdown",
      "source": [
        "#Практика 4.10\n"
      ],
      "metadata": {
        "id": "5urtV0GFhSRY"
      }
    },
    {
      "cell_type": "code",
      "source": [
        "# Функция для генерации равномерного распределения\n",
        "def create_uniform_sequence(seq_len, min_val = 0, max_val = 1):\n",
        "    \"\"\" Создает последовательность случайных чисел с равномерным распределением \"\"\"\n",
        "    result_sequence = [random.uniform(min_val, max_val) for _ in range(seq_len)]\n",
        "    return result_sequence\n",
        "\n",
        "# Функция для генерации суммы равномерных распределенных чисел\n",
        "def create_sum_uniform_sequence(seq_len, min_val, max_val, num_sum):\n",
        "    \"\"\" Создает последовательность сумм чисел с равномерным распределением \"\"\"\n",
        "    result_sequence = [sum(random.uniform(min_val, max_val) for _ in range(num_sum)) for _ in range(seq_len)]\n",
        "    return result_sequence\n",
        "\n",
        "# Функция для генерации нормального распределения\n",
        "def create_normal_sequence(seq_len, avg=0, std_dev=1):\n",
        "    \"\"\" Создает последовательность случайных чисел с нормальным распределением \"\"\"\n",
        "    result_sequence = [random.gauss(avg, std_dev) for _ in range(seq_len)]\n",
        "    return result_sequence\n",
        "\n",
        "# Функция для генерации распределения Коши\n",
        "def create_cauchy_sequence(seq_len, loc=0, scale_factor=1):\n",
        "    \"\"\" Создает последовательность случайных чисел с распределением Коши \"\"\"\n",
        "    result_sequence = stats.cauchy.rvs(loc=loc, scale=scale_factor, size=seq_len)\n",
        "    return result_sequence\n",
        "\n",
        "# Функция для расчета медианной абсолютной девиации (MAD)\n",
        "def calculate_mad(data):\n",
        "    \"\"\" Вычисляет MAD для переданных данных \"\"\"\n",
        "    median = np.median(data)  # Вычисляем медиану\n",
        "    mad = np.median(np.abs(data - median))  # Вычисляем MAD\n",
        "    return mad\n",
        "\n",
        "# Функция для вычисления доверительных интервалов для MAD\n",
        "def confidence_interval_mad(data, confidence=0.95):\n",
        "    \"\"\" Вычисляет доверительный интервал для MAD \"\"\"\n",
        "    mad = calculate_mad(data)  # Рассчитываем MAD\n",
        "    n = len(data)  # Размер выборки\n",
        "    # Используем теорему центральной предельной для оценки стандартной ошибки\n",
        "    se = mad / np.sqrt(n)  # Стандартная ошибка для MAD\n",
        "    # Находим критические значения\n",
        "    z_score = stats.norm.ppf((1 + confidence) / 2)  # z-значение для заданного уровня доверия\n",
        "    return mad - z_score * se, mad + z_score * se  # Возвращаем доверительный интервал"
      ],
      "metadata": {
        "id": "jLXIPzHYhUus"
      },
      "execution_count": 7,
      "outputs": []
    },
    {
      "cell_type": "code",
      "source": [
        "sample_sizes = [50, 100, 500, 1000]  # Разные размеры выборок\n",
        "distributions = {\n",
        "        \"Uniform\": create_uniform_sequence,\n",
        "        \"Sum of Uniform\": create_sum_uniform_sequence,\n",
        "        \"Normal\": create_normal_sequence,\n",
        "        \"Cauchy\": create_cauchy_sequence\n",
        "    }\n",
        "\n",
        "    # Генерируем данные для заданного размера выборки 10^7 для оценки MAD\n",
        "true_value_size = 10**7\n",
        "true_value_uniform = calculate_mad(create_uniform_sequence(true_value_size, 0, 1))\n",
        "true_value_normal = calculate_mad(create_normal_sequence(true_value_size))\n",
        "true_value_cauchy = calculate_mad(create_cauchy_sequence(true_value_size))\n",
        "\n",
        "    # Исследуем доверительные интервалы для каждой распредения\n",
        "for dist_name, dist_func in distributions.items():\n",
        "  print(f\"Распространение: {dist_name}\")\n",
        "\n",
        "  for size in sample_sizes:\n",
        "    if dist_name == \"Sum of Uniform\":\n",
        "      data = dist_func(size, 0, 1, 10)  # Генерация данных с суммами\n",
        "    else:\n",
        "      data = dist_func(size)  # Генерация данных для других распределений\n",
        "\n",
        "            # Рассчитываем доверительный интервал для MAD\n",
        "    ci = confidence_interval_mad(data)\n",
        "    print(f\"Размер выборки: {size},  Доверительный интервал для MAD: {ci}\")\n",
        "\n",
        "    print(\"\")  # Разрыв строки для удобства чтения\n"
      ],
      "metadata": {
        "colab": {
          "base_uri": "https://localhost:8080/"
        },
        "id": "OQ2zNCN2hiHB",
        "outputId": "7d0d04fe-a4eb-40f1-a568-531a95eda64b"
      },
      "execution_count": 8,
      "outputs": [
        {
          "output_type": "stream",
          "name": "stdout",
          "text": [
            "Распространение: Uniform\n",
            "Размер выборки: 50,  Доверительный интервал для MAD: (0.14496876926852403, 0.2561516277071825)\n",
            "\n",
            "Размер выборки: 100,  Доверительный интервал для MAD: (0.17519773865025268, 0.2606155793830749)\n",
            "\n",
            "Размер выборки: 500,  Доверительный интервал для MAD: (0.23724600018209518, 0.2828320100661782)\n",
            "\n",
            "Размер выборки: 1000,  Доверительный интервал для MAD: (0.23221104065223006, 0.2628976301112415)\n",
            "\n",
            "Распространение: Sum of Uniform\n",
            "Размер выборки: 50,  Доверительный интервал для MAD: (0.3921457206162296, 0.6928993406034452)\n",
            "\n",
            "Размер выборки: 100,  Доверительный интервал для MAD: (0.5143926076681126, 0.7651852615827274)\n",
            "\n",
            "Размер выборки: 500,  Доверительный интервал для MAD: (0.5961922306249164, 0.7107485346183274)\n",
            "\n",
            "Размер выборки: 1000,  Доверительный интервал для MAD: (0.6133441460028247, 0.6943973119186716)\n",
            "\n",
            "Распространение: Normal\n",
            "Размер выборки: 50,  Доверительный интервал для MAD: (0.5718346839604204, 1.010399590304636)\n",
            "\n",
            "Размер выборки: 100,  Доверительный интервал для MAD: (0.5256305900756901, 0.7819023340678604)\n",
            "\n",
            "Размер выборки: 500,  Доверительный интервал для MAD: (0.5530110823847292, 0.6592702759991564)\n",
            "\n",
            "Размер выборки: 1000,  Доверительный интервал для MAD: (0.6408462327931144, 0.7255337876864587)\n",
            "\n",
            "Распространение: Cauchy\n",
            "Размер выборки: 50,  Доверительный интервал для MAD: (0.9037066666017115, 1.596798640064894)\n",
            "\n",
            "Размер выборки: 100,  Доверительный интервал для MAD: (0.8422026227676155, 1.252819392427762)\n",
            "\n",
            "Размер выборки: 500,  Доверительный интервал для MAD: (0.9661712964567174, 1.1518178162555248)\n",
            "\n",
            "Размер выборки: 1000,  Доверительный интервал для MAD: (0.9651924718246527, 1.0927422431387979)\n",
            "\n"
          ]
        }
      ]
    },
    {
      "cell_type": "markdown",
      "source": [],
      "metadata": {
        "id": "YCWe6MX8hkes"
      }
    },
    {
      "cell_type": "markdown",
      "source": [
        "# Домашнее задание"
      ],
      "metadata": {
        "id": "4obnTaAYijVc"
      }
    },
    {
      "cell_type": "code",
      "source": [
        "# Номер 3\n",
        "\n",
        "# Функция для оценки размера выборки по итерационной процедуре\n",
        "#Итерационная процедура (estimate_sample_size_iterative): мы продолжаем генерировать\n",
        "#выборки и учитывать средние значения, пока они не приблизятся к истинному среднему более чем на дельту\n",
        "def estimate_sample_size_iterative(target_mean, delta, distribution_func, iterations=1000):\n",
        "    samples = []\n",
        "    sample_means = []\n",
        "\n",
        "    while True:\n",
        "        sample = distribution_func(100)  # Берем фиксированный начальный размер выборки\n",
        "        samples.append(sample)\n",
        "        sample_mean = np.mean(sample)\n",
        "        sample_means.append(sample_mean)\n",
        "\n",
        "        # Вычисление стандартной ошибки\n",
        "        se = np.std(sample) / np.sqrt(len(sample))\n",
        "\n",
        "        # Проверка условия остановки\n",
        "        if abs(sample_mean - target_mean) < delta:\n",
        "            break\n",
        "\n",
        "    return len(samples), sample_means\n",
        "\n",
        "# Функция для оценки размера выборки по оценке сверху\n",
        "#Оценка сверху (estimate_sample_size_upper_bound): мы используем стандартное отклонение и точность (определяется\n",
        "#дельтой) для расчета необходимого размера выборки с использованием неравенства Чебышёва.\n",
        "def estimate_sample_size_upper_bound(delta, distribution_func, z_value=1.96, iterations=1000):\n",
        "    # z_value = 1.96 для 95% доверительного интервала\n",
        "    return (z_value * 1 / delta) ** 2  # Здесь 1 - ошибка выборки, когда распределение нормальное\n",
        "\n",
        "# Основной код для тестирования\n",
        "true_mean_uniform = (0 + 1) / 2\n",
        "true_mean_normal = 0\n",
        "true_mean_cauchy = np.mean(np.random.standard_cauchy(size=10000))  # Примерный расчет\n",
        "\n",
        "deltas = [0.1, 0.01, 0.001]\n",
        "\n",
        "results_iterative = {'Uniform': [], 'Normal': [], 'Cauchy': []}\n",
        "results_upper_bound = {'Uniform': [], 'Normal': [], 'Cauchy': []}\n",
        "\n",
        "for delta in deltas:\n",
        "    n_iter_uniform, _ = estimate_sample_size_iterative(true_mean_uniform, delta, create_uniform_sequence)\n",
        "    n_iter_normal, _ = estimate_sample_size_iterative(true_mean_normal, delta, create_normal_sequence)\n",
        "    n_iter_cauchy, _ = estimate_sample_size_iterative(true_mean_cauchy, delta, create_cauchy_sequence)\n",
        "\n",
        "    results_iterative['Uniform'].append(n_iter_uniform)\n",
        "    results_iterative['Normal'].append(n_iter_normal)\n",
        "    results_iterative['Cauchy'].append(n_iter_cauchy)\n",
        "\n",
        "    n_upper_uniform = estimate_sample_size_upper_bound(delta, create_uniform_sequence)\n",
        "    n_upper_normal = estimate_sample_size_upper_bound(delta, create_normal_sequence)\n",
        "    n_upper_cauchy = estimate_sample_size_upper_bound(delta, create_cauchy_sequence)\n",
        "\n",
        "    results_upper_bound['Uniform'].append(n_upper_uniform)\n",
        "    results_upper_bound['Normal'].append(n_upper_normal)\n",
        "    results_upper_bound['Cauchy'].append(n_upper_cauchy)\n",
        "\n",
        "# Вывод результатов\n",
        "print(\"Итерационная процедура:\")\n",
        "print(\"Delta\\tUniform\\tNormal\\tCauchy\")\n",
        "for i, delta in enumerate(deltas):\n",
        "    print(f\"{delta}\\t{results_iterative['Uniform'][i]}\\t{results_iterative['Normal'][i]}\\t{results_iterative['Cauchy'][i]}\")\n",
        "\n",
        "print(\"\\nОценка сверху:\")\n",
        "print(\"Delta\\tUniform\\tNormal\\tCauchy\")\n",
        "for i, delta in enumerate(deltas):\n",
        "    print(f\"{delta}\\t{results_upper_bound['Uniform'][i]:.2f}\\t{results_upper_bound['Normal'][i]:.2f}\\t{results_upper_bound['Cauchy'][i]:.2f}\")"
      ],
      "metadata": {
        "colab": {
          "base_uri": "https://localhost:8080/"
        },
        "id": "vcBEUgOuilsw",
        "outputId": "f3e60252-1993-48ea-bd63-7cea7b0080e2"
      },
      "execution_count": 11,
      "outputs": [
        {
          "output_type": "stream",
          "name": "stdout",
          "text": [
            "Итерационная процедура:\n",
            "Delta\tUniform\tNormal\tCauchy\n",
            "0.1\t1\t2\t6\n",
            "0.01\t3\t3\t26\n",
            "0.001\t81\t100\t1500\n",
            "\n",
            "Оценка сверху:\n",
            "Delta\tUniform\tNormal\tCauchy\n",
            "0.1\t384.16\t384.16\t384.16\n",
            "0.01\t38416.00\t38416.00\t38416.00\n",
            "0.001\t3841600.00\t3841600.00\t3841600.00\n"
          ]
        }
      ]
    }
  ]
}