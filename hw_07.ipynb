{
  "nbformat": 4,
  "nbformat_minor": 0,
  "metadata": {
    "colab": {
      "provenance": []
    },
    "kernelspec": {
      "name": "python3",
      "display_name": "Python 3"
    },
    "language_info": {
      "name": "python"
    }
  },
  "cells": [
    {
      "cell_type": "code",
      "execution_count": 1,
      "metadata": {
        "id": "iV3ToFQ4jTmv"
      },
      "outputs": [],
      "source": [
        "import random\n",
        "import numpy as np\n",
        "import scipy.stats as stats\n",
        "import matplotlib.pyplot as plt"
      ]
    },
    {
      "cell_type": "markdown",
      "source": [
        "#Практика 11.10"
      ],
      "metadata": {
        "id": "uPTIjw1njpIz"
      }
    },
    {
      "cell_type": "code",
      "source": [
        "# Номер 1\n",
        "# Функция для генерации выборок и анализа квантилей\n",
        "def analyze_samples(distribution_func, dist_params, sample_size, alpha):\n",
        "    # Генерация выборки\n",
        "    sample = distribution_func(*dist_params, size=sample_size)\n",
        "\n",
        "    # Определение квантилей\n",
        "    q_1 = np.percentile(sample, 1)\n",
        "    q_95 = np.percentile(sample, 95)\n",
        "\n",
        "    # Определение доверительных интервалов\n",
        "    mean = np.mean(sample)\n",
        "    std_err = np.std(sample, ddof=1) / np.sqrt(sample_size)\n",
        "    critical_value = stats.norm.ppf(1 - (1 - alpha) / 2)\n",
        "\n",
        "    ci_lower = mean - critical_value * std_err\n",
        "    ci_upper = mean + critical_value * std_err\n",
        "\n",
        "    return q_1, q_95, ci_lower, ci_upper, sample\n",
        "\n",
        "# Определение размера выборки для доверительных интервалов\n",
        "def calculate_sample_size(alpha, margin_of_error, std_dev):\n",
        "    z_score = stats.norm.ppf(1 - (1 - alpha) / 2)\n",
        "    sample_size = (z_score * std_dev / margin_of_error) ** 2\n",
        "    return int(np.ceil(sample_size))\n",
        "\n",
        "# Параметры\n",
        "alpha_values = [0.90, 0.95, 0.99]  # Доверительные вероятности\n",
        "delta_values = [0.1, 0.05, 0.01]    # Погрешности\n",
        "sample_sizes = []\n",
        "distributions = {\n",
        "    'uniform': (np.random.uniform, (0, 1)),\n",
        "    'normal': (np.random.normal, (0, 1)),\n",
        "    'cauchy': (np.random.standard_cauchy, ())\n",
        "}\n",
        "\n",
        "# Анализ\n",
        "results = {}\n",
        "\n",
        "for dist_name, (distribution_func, dist_params) in distributions.items():\n",
        "    results[dist_name] = []\n",
        "\n",
        "    # Размеры выборок для каждого уровня доверия\n",
        "    for delta in delta_values:\n",
        "        sample_size = calculate_sample_size(alpha=0.95, margin_of_error=delta, std_dev=1)  # Предполагаем, что std_dev = 1 для упрощения\n",
        "        q_1, q_95, ci_lower, ci_upper, sample = analyze_samples(distribution_func, dist_params, sample_size, alpha=0.95)\n",
        "\n",
        "        results[dist_name].append({\n",
        "            'sample_size': sample_size,\n",
        "            'q_1': q_1,\n",
        "            'q_95': q_95,\n",
        "            'ci_lower': ci_lower,\n",
        "            'ci_upper': ci_upper,\n",
        "            'sample': sample,\n",
        "            'within_bounds': ci_lower >= sample.min() and ci_upper <= sample.max()\n",
        "        })\n",
        "\n",
        "# Вывод результатов\n",
        "for dist_name, dist_results in results.items():\n",
        "    print(f\"\\nDistribution: {dist_name}\")\n",
        "    for result in dist_results:\n",
        "        print(f\"Sample Size: {result['sample_size']}, \"\n",
        "              f\"1% Quantile: {result['q_1']}, \"\n",
        "              f\"95% Quantile: {result['q_95']}, \"\n",
        "              f\"CI: ({result['ci_lower']}, {result['ci_upper']}), \"\n",
        "              f\"Within Bounds: {result['within_bounds']}\")"
      ],
      "metadata": {
        "colab": {
          "base_uri": "https://localhost:8080/"
        },
        "id": "HYX4BffSjrQF",
        "outputId": "b8d50b6a-b29a-49d0-e785-c155e684c6bf"
      },
      "execution_count": 3,
      "outputs": [
        {
          "output_type": "stream",
          "name": "stdout",
          "text": [
            "\n",
            "Distribution: uniform\n",
            "Sample Size: 385, 1% Quantile: 0.014812488498896293, 95% Quantile: 0.9422811700021708, CI: (0.4647379463994217, 0.5218523576179057), Within Bounds: True\n",
            "Sample Size: 1537, 1% Quantile: 0.0047236527462092455, 95% Quantile: 0.9587930075785882, CI: (0.4845894244750031, 0.513494867805992), Within Bounds: True\n",
            "Sample Size: 38415, 1% Quantile: 0.009230222715573565, 95% Quantile: 0.9491966333377452, CI: (0.49676326766168577, 0.5025202844779927), Within Bounds: True\n",
            "\n",
            "Distribution: normal\n",
            "Sample Size: 385, 1% Quantile: -2.1997360002291186, 95% Quantile: 1.7095260567080321, CI: (-0.1083484392218544, 0.09501727051542798), Within Bounds: True\n",
            "Sample Size: 1537, 1% Quantile: -2.1858899293080976, 95% Quantile: 1.696137186941254, CI: (-0.03619898720694227, 0.06373015470597006), Within Bounds: True\n",
            "Sample Size: 38415, 1% Quantile: -2.341855901313372, 95% Quantile: 1.6600422137101103, CI: (-0.0039212865923663656, 0.016107336132470097), Within Bounds: True\n",
            "\n",
            "Distribution: cauchy\n",
            "Sample Size: 385, 1% Quantile: -92.43703003208859, 95% Quantile: 5.07831751274003, CI: (-19.315631359407703, 2.090454142534293), Within Bounds: True\n",
            "Sample Size: 1537, 1% Quantile: -29.71952577735551, 95% Quantile: 6.332832595453496, CI: (-9.824957937439484, 3.419103911369799), Within Bounds: True\n",
            "Sample Size: 38415, 1% Quantile: -31.10255684864282, 95% Quantile: 6.143494651708342, CI: (-1.3647328099564202, 6.287525949354798), Within Bounds: True\n"
          ]
        }
      ]
    },
    {
      "cell_type": "code",
      "source": [
        "# Номер 2\n",
        "# Функция для генерации выборок и вычисления статистик\n",
        "def generate_samples(distribution_func, params, size):\n",
        "    return distribution_func(*params, size=size)\n",
        "\n",
        "# Метод Монте-Карло\n",
        "def monte_carlo(samples, n_iterations=10000):\n",
        "    estimates = []\n",
        "    for _ in range(n_iterations):\n",
        "        sample = np.random.choice(samples, size=len(samples), replace=True)\n",
        "        estimates.append(np.mean(sample))\n",
        "    return np.std(estimates)\n",
        "\n",
        "# Метод линеаризации\n",
        "def linearization_method(samples):\n",
        "    mean = np.mean(samples)\n",
        "    std_dev = np.std(samples, ddof=1)\n",
        "\n",
        "    # Погрешность для математического ожидания\n",
        "    std_err_mean = std_dev / np.sqrt(len(samples))\n",
        "\n",
        "    # Погрешность для дисперсии\n",
        "    var_estimate = np.var(samples, ddof=1)\n",
        "    std_err_variance = (2 * var_estimate**2 / (len(samples) - 1))**0.5\n",
        "\n",
        "    return std_err_mean, std_err_variance\n",
        "\n",
        "# Метод Крейновича\n",
        "def kreinovich_method(samples):\n",
        "    n = len(samples)\n",
        "    mean = np.mean(samples)\n",
        "    std_dev = np.std(samples, ddof=1)\n",
        "\n",
        "    # Погрешность для математического ожидания\n",
        "    delta_mean = std_dev / np.sqrt(n)\n",
        "\n",
        "    # Погрешность для дисперсии\n",
        "    var_estimate = np.var(samples, ddof=1)\n",
        "    delta_variance = (2 * var_estimate**2) / (n - 1)\n",
        "\n",
        "    return delta_mean, delta_variance\n",
        "\n",
        "# Параметры для генерации выборки\n",
        "distribution_func = np.random.normal\n",
        "params = (0, 1)  # Среднее и стандартное отклонение\n",
        "sample_size = 100  # Размер выборки\n",
        "\n",
        "# Генерация выборки\n",
        "samples = generate_samples(distribution_func, params, sample_size)\n",
        "\n",
        "# Оценка погрешностей\n",
        "monte_carlo_error = monte_carlo(samples)\n",
        "linearization_errors = linearization_method(samples)\n",
        "kreinovich_errors = kreinovich_method(samples)\n",
        "\n",
        "# Вывод результатов\n",
        "print(f\"Метод Монте-Карло: Погрешность = {monte_carlo_error}\")\n",
        "print(f\"Метод линеаризации: Погрешность математического ожидания = {linearization_errors[0]}, \"\n",
        "      f\"Погрешность дисперсии = {linearization_errors[1]}\")\n",
        "print(f\"Метод Крейновича: Погрешность математического ожидания = {kreinovich_errors[0]}, \"\n",
        "      f\"Погрешность дисперсии = {kreinovich_errors[1]}\")"
      ],
      "metadata": {
        "colab": {
          "base_uri": "https://localhost:8080/"
        },
        "id": "eg2PolRAj3IE",
        "outputId": "c09228da-332e-446b-df26-d90c8f75e0e6"
      },
      "execution_count": 4,
      "outputs": [
        {
          "output_type": "stream",
          "name": "stdout",
          "text": [
            "Метод Монте-Карло: Погрешность = 0.10645595751599854\n",
            "Метод линеаризации: Погрешность математического ожидания = 0.10588412270879073, Погрешность дисперсии = 0.1593525750651481\n",
            "Метод Крейновича: Погрешность математического ожидания = 0.10588412270879073, Погрешность дисперсии = 0.025393243179893665\n"
          ]
        }
      ]
    }
  ]
}