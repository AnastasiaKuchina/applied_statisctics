{
  "nbformat": 4,
  "nbformat_minor": 0,
  "metadata": {
    "colab": {
      "provenance": []
    },
    "kernelspec": {
      "name": "python3",
      "display_name": "Python 3"
    },
    "language_info": {
      "name": "python"
    }
  },
  "cells": [
    {
      "cell_type": "markdown",
      "source": [
        "Задания 15.11"
      ],
      "metadata": {
        "id": "Dk9uGRhnYtXw"
      }
    },
    {
      "cell_type": "code",
      "execution_count": 1,
      "metadata": {
        "id": "0684QrqQYFC2"
      },
      "outputs": [],
      "source": [
        "import numpy as np\n",
        "import pandas as pd\n",
        "from scipy import optimize\n",
        "import statsmodels.api as sm\n",
        "from sklearn.linear_model import LinearRegression, Lasso\n",
        "import statsmodels.api as sm\n",
        "from scipy import stats"
      ]
    },
    {
      "cell_type": "markdown",
      "source": [
        "#Номер1\n"
      ],
      "metadata": {
        "id": "SNI5evJQYvvp"
      }
    },
    {
      "cell_type": "code",
      "source": [
        "def f(x, a):\n",
        "    a0, a1, a2 = a\n",
        "    return (a1 * x + a0) / (x + a2)"
      ],
      "metadata": {
        "id": "zepqT1jsYw6v"
      },
      "execution_count": 2,
      "outputs": []
    },
    {
      "cell_type": "code",
      "source": [
        "# Генерация значений x_i\n",
        "x = np.arange(0.1, 3.1, 0.1)"
      ],
      "metadata": {
        "id": "CgK1HWY7Y3ml"
      },
      "execution_count": 3,
      "outputs": []
    },
    {
      "cell_type": "code",
      "source": [
        "print(epsilon_normal.shape)"
      ],
      "metadata": {
        "colab": {
          "base_uri": "https://localhost:8080/"
        },
        "id": "3jYlCmS2Zllq",
        "outputId": "8771c048-d977-4280-b591-e8246e8cc883"
      },
      "execution_count": 8,
      "outputs": [
        {
          "output_type": "stream",
          "name": "stdout",
          "text": [
            "(103,)\n"
          ]
        }
      ]
    },
    {
      "cell_type": "code",
      "source": [
        "# Параметры\n",
        "a = (0.0, 1.0, 1.0)\n",
        "N = 30\n",
        "\n",
        "# Генерация случайной погрешности ε_i для нормального распределения\n",
        "epsilon_normal = np.random.normal(0, 0.05, N)\n",
        "\n",
        "# Генерация значений y_i\n",
        "y_normal =  f(x, a) + epsilon_normal"
      ],
      "metadata": {
        "id": "CB0eb8pTY5Bs"
      },
      "execution_count": 10,
      "outputs": []
    },
    {
      "cell_type": "code",
      "source": [
        "# Генерация случайной погрешности ε_i для равномерного распределения\n",
        "epsilon_uniform = np.random.uniform(-0.05, 0.05, N)\n",
        "\n",
        "# Генерация значений y_i\n",
        "y_uniform = f(x, a) + epsilon_uniform"
      ],
      "metadata": {
        "id": "nTYaZrNSY6vG"
      },
      "execution_count": 11,
      "outputs": []
    },
    {
      "cell_type": "code",
      "source": [
        "# Параметры распределения Лапласа\n",
        "lambda_param = 1 / np.sqrt(2 * 0.05**2)  # Расчет λ, учитывая дисперсию\n",
        "\n",
        "# Генерация случайной погрешности ε_i для распределения Лапласа\n",
        "epsilon_laplace = np.random.laplace(0, 1/lambda_param, N)\n",
        "\n",
        "# Генерация значений y_i\n",
        "y_laplace = f(x, a) + epsilon_laplace"
      ],
      "metadata": {
        "id": "rkZYVCRlY8bJ"
      },
      "execution_count": 12,
      "outputs": []
    },
    {
      "cell_type": "markdown",
      "source": [
        "#Номер 2"
      ],
      "metadata": {
        "id": "2hHxS5FRYxCc"
      }
    },
    {
      "cell_type": "code",
      "source": [
        "# Используем OLS для регрессии\n",
        "X = sm.add_constant(x)  # добавляем свободный член\n",
        "model_ols = sm.OLS(y_normal, X).fit()\n",
        "params_ols = model_ols.params\n",
        "variance_ols = np.var(model_ols.params)  # дисперсия параметров"
      ],
      "metadata": {
        "id": "hGb7jFSMYynN"
      },
      "execution_count": 13,
      "outputs": []
    },
    {
      "cell_type": "code",
      "source": [
        "# Использование Lasso для ЛАР\n",
        "model_lar = Lasso(alpha=0.1)  # можно настроить alpha\n",
        "model_lar.fit(X, y_normal)\n",
        "params_lar = np.array([model_lar.intercept_, model_lar.coef_[0], model_lar.coef_[1]])\n",
        "variance_lar = np.var(params_lar)  # дисперсия параметров"
      ],
      "metadata": {
        "id": "RE6Fjo1HZIk2"
      },
      "execution_count": 17,
      "outputs": []
    },
    {
      "cell_type": "code",
      "source": [
        "def minimax_loss(params):\n",
        "    y_pred = f(x, params)\n",
        "    return np.sum(np.abs(y_normal - y_pred))\n",
        "\n",
        "# Начальные приближения\n",
        "starting_params = np.array(a)\n",
        "\n",
        "# Оптимизация\n",
        "result_minimax = optimize.minimize(minimax_loss, starting_params)\n",
        "params_minimax = result_minimax.x\n",
        "variance_minimax = np.var(params_minimax)  # дисперсия параметров"
      ],
      "metadata": {
        "id": "heJRLw_rZOIG"
      },
      "execution_count": 15,
      "outputs": []
    },
    {
      "cell_type": "code",
      "source": [
        "print(\"OLS Parameters:\", params_ols)\n",
        "print(\"OLS Variance:\", variance_ols)\n",
        "\n",
        "print(\"LAR Parameters:\", params_lar)\n",
        "print(\"LAR Variance:\", variance_lar)\n",
        "\n",
        "print(\"Minimax Parameters:\", params_minimax)\n",
        "print(\"Minimax Variance:\", variance_minimax)"
      ],
      "metadata": {
        "colab": {
          "base_uri": "https://localhost:8080/"
        },
        "id": "WKHKJs8fZPy5",
        "outputId": "a3473ff4-3d77-419c-9595-b9e4a5dac3b0"
      },
      "execution_count": 18,
      "outputs": [
        {
          "output_type": "stream",
          "name": "stdout",
          "text": [
            "OLS Parameters: [0.26593766 0.18306868]\n",
            "OLS Variance: 0.0017168167821397448\n",
            "LAR Parameters: [0.47283421 0.         0.04958704]\n",
            "LAR Variance: 0.045018803702832476\n",
            "Minimax Parameters: [-0.00820698  0.90036966  0.71912828]\n",
            "Minimax Variance: 0.15415294485591488\n"
          ]
        }
      ]
    },
    {
      "cell_type": "markdown",
      "source": [
        "#ДЗ(номер3)\n"
      ],
      "metadata": {
        "id": "Gk-QPJdPZVaX"
      }
    },
    {
      "cell_type": "code",
      "source": [
        "a = (0.0, 1.0, 1.0)\n",
        "N = 30\n",
        "num_simulations = 103  # Количество генераций\n",
        "outliers_count = [1, 2, 3]  # Мы будем добавлять 1, 2 и 3 выброса в разные симуляции\n",
        "\n",
        "# Счетчик случаев, когда выбросы остаются\n",
        "outliers_stayed = {k: 0 for k in outliers_count}\n",
        "\n",
        "for k in outliers_count:\n",
        "    for _ in range(num_simulations):\n",
        "        # Генерация значений x_i\n",
        "        x = np.arange(0.1, 3.1, 0.1)\n",
        "\n",
        "        # Генерация случайной погрешности ε_i для нормального распределения\n",
        "        epsilon_normal = np.random.normal(0, 0.05, N)\n",
        "\n",
        "        # Генерация значений y_i\n",
        "        y_normal = f(x, a) + epsilon_normal\n",
        "\n",
        "        # Вычисляем квантиль для добавления выбросов\n",
        "        q95 = np.percentile(y_normal, 95)\n",
        "        q99 = np.percentile(y_normal, 99)\n",
        "        q999 = np.percentile(y_normal, 99.9)\n",
        "\n",
        "        # Создаем выбросы\n",
        "        outliers = np.random.choice([q95, q99, q999], k, replace=False)\n",
        "\n",
        "        # Добавляем выбросы случайным образом в данные\n",
        "        outlier_indices = np.random.choice(range(N), k, replace=False)\n",
        "        y_with_outliers = np.copy(y_normal)\n",
        "        y_with_outliers[outlier_indices] = outliers\n",
        "\n",
        "        # OLS метод\n",
        "        X = sm.add_constant(x)  # добавляем свободный член\n",
        "        model_ols = sm.OLS(y_with_outliers, X).fit()\n",
        "\n",
        "        # Проверяем, остались ли выбросы\n",
        "        residuals = model_ols.resid\n",
        "        if any(np.abs(residuals) > 3 * np.std(residuals)):  # Проверка на выбросы\n",
        "            outliers_stayed[k] += 1\n",
        "\n",
        "# Вывод результатов\n",
        "for k in outliers_count:\n",
        "    print(f'Количество выбросов: {k}, случаев, когда хотя бы один выброс остался: {outliers_stayed[k]} из {num_simulations}')\n"
      ],
      "metadata": {
        "colab": {
          "base_uri": "https://localhost:8080/"
        },
        "id": "JRFu228EZXII",
        "outputId": "3e5a1640-5ef3-4a92-943d-5d47008cc645"
      },
      "execution_count": 19,
      "outputs": [
        {
          "output_type": "stream",
          "name": "stdout",
          "text": [
            "Количество выбросов: 1, случаев, когда хотя бы один выброс остался: 42 из 103\n",
            "Количество выбросов: 2, случаев, когда хотя бы один выброс остался: 64 из 103\n",
            "Количество выбросов: 3, случаев, когда хотя бы один выброс остался: 63 из 103\n"
          ]
        }
      ]
    }
  ]
}