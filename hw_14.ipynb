{
  "nbformat": 4,
  "nbformat_minor": 0,
  "metadata": {
    "colab": {
      "provenance": []
    },
    "kernelspec": {
      "name": "python3",
      "display_name": "Python 3"
    },
    "language_info": {
      "name": "python"
    }
  },
  "cells": [
    {
      "cell_type": "markdown",
      "source": [
        "Задания 13.12"
      ],
      "metadata": {
        "id": "5-Z-MJke-SXU"
      }
    },
    {
      "cell_type": "markdown",
      "source": [
        "#Практика"
      ],
      "metadata": {
        "id": "pqSK42zp-U6H"
      }
    },
    {
      "cell_type": "code",
      "execution_count": 1,
      "metadata": {
        "id": "Pn3hapre-OoU"
      },
      "outputs": [],
      "source": [
        "import numpy as np\n",
        "import matplotlib.pyplot as plt\n",
        "from scipy.optimize import fsolve\n",
        "\n",
        "# Определяем функции\n",
        "def f1(x, a0, a1, a2):\n",
        "    return a2 * x**2 + a1 * x + a0\n",
        "\n",
        "def f2(x, a0, a1, a2):\n",
        "    return np.exp(a2 * x) + a1 * x + a0\n",
        "\n",
        "# Определяем границы для коэффициентов\n",
        "a2_f1_bounds = (1.0, 1.1)\n",
        "a1_f1_bounds = (-0.1, 0.1)\n",
        "a0_f1_bounds = (-0.1, 0.1)\n",
        "\n",
        "a2_f2_bounds = (1.0, 1.1)\n",
        "a1_f2_bounds = (1.9, 2.1)\n",
        "a0_f2_bounds = (1.1, 1.2)\n",
        "\n",
        "# Задаваем диапазон x для поиска корней\n",
        "x_values = np.linspace(-2, 2, 100)"
      ]
    },
    {
      "cell_type": "code",
      "source": [
        "# Находим корни уравнения f1\n",
        "def find_root_f1(a0, a1, a2):\n",
        "    initial_guess = 0  # Начальное приближение\n",
        "    root = fsolve(f1, initial_guess, args=(a0, a1, a2))\n",
        "    return root[0]\n",
        "\n",
        "# Приведение к формату для вычислений\n",
        "roots_f1 = []\n",
        "for a2 in np.linspace(*a2_f1_bounds, 5):\n",
        "    for a1 in np.linspace(*a1_f1_bounds, 5):\n",
        "        for a0 in np.linspace(*a0_f1_bounds, 5):\n",
        "            root = find_root_f1(a0, a1, a2)\n",
        "            roots_f1.append((a0, a1, a2, root))"
      ],
      "metadata": {
        "colab": {
          "base_uri": "https://localhost:8080/"
        },
        "id": "Qwc-dbli_MKB",
        "outputId": "df0def5c-f14f-488e-fd9f-d3c817c6f581"
      },
      "execution_count": 2,
      "outputs": [
        {
          "output_type": "stream",
          "name": "stderr",
          "text": [
            "<ipython-input-2-25fc9d07f1f7>:4: RuntimeWarning: The iteration is not making good progress, as measured by the \n",
            "  improvement from the last five Jacobian evaluations.\n",
            "  root = fsolve(f1, initial_guess, args=(a0, a1, a2))\n",
            "<ipython-input-2-25fc9d07f1f7>:4: RuntimeWarning: The iteration is not making good progress, as measured by the \n",
            "  improvement from the last ten iterations.\n",
            "  root = fsolve(f1, initial_guess, args=(a0, a1, a2))\n"
          ]
        }
      ]
    },
    {
      "cell_type": "code",
      "source": [
        "# Находим корни уравнения f2\n",
        "def find_root_f2(a0, a1, a2):\n",
        "    initial_guess = 0  # Начальное приближение\n",
        "    root = fsolve(f2, initial_guess, args=(a0, a1, a2))\n",
        "    return root[0]\n",
        "\n",
        "# Приведение к формату для вычислений\n",
        "roots_f2 = []\n",
        "for a2 in np.linspace(*a2_f2_bounds, 5):\n",
        "    for a1 in np.linspace(*a1_f2_bounds, 5):\n",
        "        for a0 in np.linspace(*a0_f2_bounds, 5):\n",
        "            root = find_root_f2(a0, a1, a2)\n",
        "            roots_f2.append((a0, a1, a2, root))"
      ],
      "metadata": {
        "id": "hmf4L_II_N_a"
      },
      "execution_count": 3,
      "outputs": []
    },
    {
      "cell_type": "code",
      "source": [
        "# Метод Монте-Карло для оценки погрешности\n",
        "def monte_carlo_method(func, a0_bounds, a1_bounds, a2_bounds, n=1000):\n",
        "    roots = []\n",
        "    for _ in range(n):\n",
        "        a0 = np.random.uniform(*a0_bounds)\n",
        "        a1 = np.random.uniform(*a1_bounds)\n",
        "        a2 = np.random.uniform(*a2_bounds)\n",
        "        root = fsolve(func, 0, args=(a0, a1, a2))[0]\n",
        "        roots.append(root)\n",
        "    return roots\n",
        "\n",
        "# Оценка погрешности для f1 и f2\n",
        "monte_carlo_roots_f1 = monte_carlo_method(f1, a0_f1_bounds, a1_f1_bounds, a2_f1_bounds)\n",
        "monte_carlo_roots_f2 = monte_carlo_method(f2, a0_f2_bounds, a1_f2_bounds, a2_f2_bounds)\n",
        "\n",
        "# Вычисляем погрешность\n",
        "error_f1 = np.std(monte_carlo_roots_f1)\n",
        "error_f2 = np.std(monte_carlo_roots_f2)\n",
        "\n",
        "print(f\"Погрешность корней для f1: {error_f1}\")\n",
        "print(f\"Погрешность корней для f2: {error_f2}\")"
      ],
      "metadata": {
        "colab": {
          "base_uri": "https://localhost:8080/"
        },
        "id": "QPjjJjmE_Pxh",
        "outputId": "8195717b-7394-4bed-aff2-545385347aa9"
      },
      "execution_count": 4,
      "outputs": [
        {
          "output_type": "stream",
          "name": "stderr",
          "text": [
            "<ipython-input-4-c2f083db2776>:8: RuntimeWarning: The iteration is not making good progress, as measured by the \n",
            "  improvement from the last ten iterations.\n",
            "  root = fsolve(func, 0, args=(a0, a1, a2))[0]\n",
            "<ipython-input-4-c2f083db2776>:8: RuntimeWarning: The iteration is not making good progress, as measured by the \n",
            "  improvement from the last five Jacobian evaluations.\n",
            "  root = fsolve(func, 0, args=(a0, a1, a2))[0]\n"
          ]
        },
        {
          "output_type": "stream",
          "name": "stdout",
          "text": [
            "Погрешность корней для f1: 0.14097641729090632\n",
            "Погрешность корней для f2: 0.02241426543859994\n"
          ]
        }
      ]
    },
    {
      "cell_type": "code",
      "source": [
        "def analytical_error(a0, a1, a2, root):\n",
        "    # Например, берем первую производную\n",
        "    # Считаем производные для f1 и f2\n",
        "    df1_da0 = 1\n",
        "    df1_da1 = root\n",
        "    df1_da2 = root**2\n",
        "\n",
        "    df2_da0 = 1\n",
        "    df2_da1 = root\n",
        "    df2_da2 = np.exp(a2 * root) * root\n",
        "\n",
        "    # Общая погрешность\n",
        "    error_f1 = np.sqrt((df1_da0 * 0.1)**2 + (df1_da1 * 0.2)**2 + (df1_da2 * 0.1)**2)  # Предполагаем, что погрешность a1 ~ 0.2\n",
        "    error_f2 = np.sqrt((df2_da0 * 0.1)**2 + (df2_da1 * 0.2)**2 + (df2_da2 * 0.1)**2)\n",
        "\n",
        "    return error_f1, error_f2\n",
        "\n",
        "# Пример вычислений ошибок для любого найденного корня\n",
        "a0_example = 0.05\n",
        "a1_example = 0.05\n",
        "a2_example = 1.05\n",
        "root_example_f1 = find_root_f1(a0_example, a1_example, a2_example)\n",
        "root_example_f2 = find_root_f2(a0_example, a1_example, a2_example)\n",
        "\n",
        "error_f1_analytical, error_f2_analytical = analytical_error(a0_example, a1_example, a2_example, root_example_f1)\n",
        "print(f\"Аналитическая погрешность f1: {error_f1_analytical}\")\n",
        "print(f\"Аналитическая погрешность f2: {error_f2_analytical}\")"
      ],
      "metadata": {
        "colab": {
          "base_uri": "https://localhost:8080/"
        },
        "id": "6N6q-VYA_TRZ",
        "outputId": "189660b5-5781-4991-98ad-b0a3dc0d3d9a"
      },
      "execution_count": 5,
      "outputs": [
        {
          "output_type": "stream",
          "name": "stdout",
          "text": [
            "Аналитическая погрешность f1: 0.10011350768155758\n",
            "Аналитическая погрешность f2: 0.1001404607295054\n"
          ]
        },
        {
          "output_type": "stream",
          "name": "stderr",
          "text": [
            "<ipython-input-2-25fc9d07f1f7>:4: RuntimeWarning: The iteration is not making good progress, as measured by the \n",
            "  improvement from the last ten iterations.\n",
            "  root = fsolve(f1, initial_guess, args=(a0, a1, a2))\n"
          ]
        }
      ]
    },
    {
      "cell_type": "markdown",
      "source": [
        "###Вывод:\n",
        "\n",
        "- Метод Монте-Карло\n",
        "\n",
        "Погрешность корней для f1: 0.14097641729090632\n",
        "\n",
        "Погрешность корней для f2: 0.02241426543859994\n",
        "\n",
        "- Аналитическая погрешность\n",
        "\n",
        "Аналитическая погрешность f1: 0.10011350768155758\n",
        "\n",
        "Аналитическая погрешность f2: 0.1001404607295054\n",
        "\n",
        "Итог:\n",
        "\n",
        "Для уравнения 1 - лучше аналитическая погрешность\n",
        "\n",
        "Для уравнения 2 - лучше метод Монте-Карло\n"
      ],
      "metadata": {
        "id": "r9eQrPpI_VcH"
      }
    },
    {
      "cell_type": "markdown",
      "source": [
        "#Домашнее задание\n"
      ],
      "metadata": {
        "id": "LLUy7Owv_z3e"
      }
    },
    {
      "cell_type": "code",
      "source": [
        "# Функция для квадратного уравнения\n",
        "def quadratic_eq(x, a0, a1, a2):\n",
        "    return a2 * x**2 + a1 * x + a0\n",
        "\n",
        "# Функция для экспоненциального уравнения\n",
        "def exponential_eq(x, a0, a1, a2):\n",
        "    return np.exp(a2 * x) + a1 * x + a0"
      ],
      "metadata": {
        "id": "96y1KgHj_195"
      },
      "execution_count": 6,
      "outputs": []
    },
    {
      "cell_type": "code",
      "source": [
        "def monte_carlo_method(a0_bounds, a1_bounds, a2_bounds, num_samples=1000):\n",
        "    roots = []\n",
        "    for _ in range(num_samples):\n",
        "        # Генерируем случайные коэффициенты в заданных пределах\n",
        "        a0 = np.random.uniform(*a0_bounds)\n",
        "        a1 = np.random.uniform(*a1_bounds)\n",
        "        a2 = np.random.uniform(*a2_bounds)\n",
        "\n",
        "        # Находим корень\n",
        "        root = fsolve(quadratic_eq, 0, args=(a0, a1, a2))\n",
        "        roots.append((a0, a1, a2, root[0]))\n",
        "\n",
        "    return np.array(roots)"
      ],
      "metadata": {
        "id": "QaCb03NHASYF"
      },
      "execution_count": 7,
      "outputs": []
    },
    {
      "cell_type": "code",
      "source": [
        "def analytical_error(roots):\n",
        "    # Вычисляем среднее значение корней\n",
        "    mean_root = np.mean(roots[:, 3])\n",
        "\n",
        "    # Вычисляем погрешность\n",
        "    error = np.std(roots[:, 3])\n",
        "\n",
        "    return mean_root, error"
      ],
      "metadata": {
        "id": "b7NnyX9gAT8k"
      },
      "execution_count": 8,
      "outputs": []
    },
    {
      "cell_type": "code",
      "source": [
        "# Определим границы для коэффициентов\n",
        "a0_bounds = (-0.1, 0.1)\n",
        "a1_bounds = (-0.1, 0.1)\n",
        "a2_bounds = (1.0, 1.1)\n",
        "\n",
        "# Применим метод Монте-Карло\n",
        "monte_carlo_roots = monte_carlo_method(a0_bounds, a1_bounds, a2_bounds, 1000)\n",
        "\n",
        "# Вычисляем аналитическую погрешность\n",
        "mean_root, error = analytical_error(monte_carlo_roots)\n",
        "\n",
        "# Выводим результаты\n",
        "print(f\"Средний корень: {mean_root}\")\n",
        "print(f\"Погрешность: {error}\")\n",
        "\n",
        "# Визуализация результатов\n",
        "plt.hist(monte_carlo_roots[:, 3], bins=30, alpha=0.7, color='blue', edgecolor='black')\n",
        "plt.axvline(mean_root, color='red', linestyle='dashed', linewidth=1)\n",
        "plt.title('Распределение корней (Метод Монте-Карло)')\n",
        "plt.xlabel('Корни')\n",
        "plt.ylabel('Частота')\n",
        "plt.show()"
      ],
      "metadata": {
        "colab": {
          "base_uri": "https://localhost:8080/",
          "height": 615
        },
        "id": "9ZdJO4ecAViG",
        "outputId": "9703fcde-8134-4345-b109-0bc019369d09"
      },
      "execution_count": 9,
      "outputs": [
        {
          "output_type": "stream",
          "name": "stderr",
          "text": [
            "<ipython-input-7-ae3726afaa8c>:10: RuntimeWarning: The iteration is not making good progress, as measured by the \n",
            "  improvement from the last ten iterations.\n",
            "  root = fsolve(quadratic_eq, 0, args=(a0, a1, a2))\n",
            "<ipython-input-7-ae3726afaa8c>:10: RuntimeWarning: The iteration is not making good progress, as measured by the \n",
            "  improvement from the last five Jacobian evaluations.\n",
            "  root = fsolve(quadratic_eq, 0, args=(a0, a1, a2))\n"
          ]
        },
        {
          "output_type": "stream",
          "name": "stdout",
          "text": [
            "Средний корень: 0.005288735185953067\n",
            "Погрешность: 0.1434404348276175\n"
          ]
        },
        {
          "output_type": "display_data",
          "data": {
            "text/plain": [
              "<Figure size 640x480 with 1 Axes>"
            ],
            "image/png": "[encoded data removed]"
          },
          "metadata": {}
        }
      ]
    }
  ]
}